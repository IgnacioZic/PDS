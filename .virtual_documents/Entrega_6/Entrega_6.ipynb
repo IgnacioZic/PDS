





import numpy as np
import matplotlib.pyplot as plt
import scipy.signal as sig
import random as random
#%%
Fo = 1.0
Fs = 1000.0 # frecuencia de muestreo (Hz)
N = 1000   # cantidad de muestras
ts = 1/Fs # tiempo de muestreo
df = Fs/N # resolución espectral
Ac =2**0.5 #Amplitud 
DC = 0 #Valor Contínua
tita = 0 #Defasaje
#----------------------------------------Estos 3 se repetirán cuando se cambie la SNR
SNR = 3 # SNR en dB
sigma = (10**(-SNR/10)) #Varianza
desvio = sigma**0.5 #Desvío Estándar
#----------------------------------------
Omega_0 = Fs/4
R = 200


#%% Funciones
def my_sin_gen( vmax, dc, fo, ph, nn, fs): 
    tt = np.arange(0,nn*1/fs,1/fs) # grilla de sampleo temporal
    xx = vmax*np.sin(2*np.pi*fo*tt + ph) + dc #Senoidal
    return [tt, xx]





#Genero señal aleatoria para el ruido
na=np.random.normal(0, desvio, (R,N))
#Genero la variable Omega según la distribución de fr
fr=np.random.uniform(-2,2,R).reshape((R,1))
Omega_1 = Omega_0 + fr*df

tt, s = my_sin_gen(vmax = Ac, dc = DC, fo = Fo*Omega_1, ph=tita, nn = N, fs =Fs )

ss= s + na





wi = sig.windows.get_window('boxcar', len(tt))

X_R = ss * wi

TFF_X=np.fft.fft(X_R, axis = -1)/len(tt)#Espectro de la señal cuantizada
mod_X=np.abs(TFF_X)
mod_X_LOG=10*np.log10(2*np.abs(TFF_X)**2)

#st = int (N/4) - 10
#fin = int (N/4) + 10

#Se comentó el ploteo para verificar 
#plt.figure("DFT Senoidales",figsize=(15, 7))
#plt.title('DFT Senoidales')
#plt.plot(mod_X[0,:])
#plt.plot(mod_X_LOG[:,st:fin].transpose())
#plt.ylabel("DFT Amplitude |X(freq)|")
#plt.legend()
#plt.show()

lim = int (N/4)-1 #Columna de Fs/4, el -1 es porque va de 0 a 999

#Me quedo con la columna correspondiente a pi/2 que sería el equivalente de fs/4 = 1000/4 = 250
a_estimador = mod_X[:,lim] # Estimador para ventana rectangular

Omega_estimador = np.argmax(mod_X,axis=1)#Recordar recortar a Nyquist

Esperanza_a = sum(a_estimador/200)

S_a_3dB = Esperanza_a - Ac
V_a_3dB = sum((a_estimador-Esperanza_a)**2)/200











