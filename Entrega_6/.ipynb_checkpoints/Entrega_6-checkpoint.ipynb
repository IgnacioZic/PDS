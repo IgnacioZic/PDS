{
 "cells": [
  {
   "cell_type": "markdown",
   "id": "d0f83d9c-6546-4c2e-92d1-2ac80c9c0304",
   "metadata": {},
   "source": [
    "## Entrega 6\n",
    "### Ignacio Ziccardi\n",
    "### Realizar una tabla por cada SNR, que describa el sesgo y la varianza de cada estimador para cada ventana analizada. Recuerde incluir las ventanas rectangular (sin ventana), flattop y blackmanharris y otras que considere (considero Hamming). "
   ]
  },
  {
   "cell_type": "markdown",
   "id": "ee897ca8-f8cc-40d0-bc89-71a2ac407611",
   "metadata": {},
   "source": [
    "$x(k)=a_0⋅sen(Ω_1⋅k)+n_a(n)$<br>\n",
    "siendo<br>\n",
    "$Ω_1=Ω_0+f_r⋅2πN$<br>\n",
    "$Ω_0=\\frac{π}{2}$<br>\n",
    "siendo la variable aleatoria definida por la siguiente distribución de probabilidad<br>\n",
    "$f_r∼U(−2,2)$<br>\n",
    "$na∼N(0,σ^2)$<br>\n",
    "Diseñe los siguientes estimadores,  de amplitud $a_1$<br>\n",
    "$a^i_1=|X^i_w(Ω_0)|=|F{x(n)⋅w_i(n)}|$<br>\n",
    "para la  $i$-ésima realización y la  $w$-ésima ventana (ver detalles debajo). y de frecuencia $Ω_1$<br>\n",
    "$Ω^i_1=arg max{|X^i_w(Ω)|}$\n"
   ]
  },
  {
   "cell_type": "code",
   "execution_count": 118,
   "id": "899e5350-6d67-4869-88c1-3611e3a09e91",
   "metadata": {},
   "outputs": [],
   "source": [
    "import numpy as np\n",
    "import matplotlib.pyplot as plt\n",
    "import scipy.signal as sig\n",
    "import random as random\n",
    "#%%\n",
    "Fo = 1.0\n",
    "Fs = 1000.0 # frecuencia de muestreo (Hz)\n",
    "N = 1000   # cantidad de muestras\n",
    "ts = 1/Fs # tiempo de muestreo\n",
    "df = Fs/N # resolución espectral\n",
    "Ac =2**0.5 #Amplitud \n",
    "DC = 0 #Valor Contínua\n",
    "tita = 0 #Defasaje\n",
    "#----------------------------------------Estos 3 se repetirán cuando se cambie la SNR\n",
    "SNR = 3 # SNR en dB\n",
    "sigma = (10**(-SNR/10)) #Varianza\n",
    "desvio = sigma**0.5 #Desvío Estándar\n",
    "#----------------------------------------\n",
    "Omega_0 = Fs/4\n",
    "R = 200"
   ]
  },
  {
   "cell_type": "code",
   "execution_count": 119,
   "id": "a87e707f-3bc9-4e23-8069-4584e45d9d36",
   "metadata": {},
   "outputs": [],
   "source": [
    "#%% Funciones\n",
    "def my_sin_gen( vmax, dc, fo, ph, nn, fs): \n",
    "    tt = np.arange(0,nn*1/fs,1/fs) # grilla de sampleo temporal\n",
    "    xx = vmax*np.sin(2*np.pi*fo*tt + ph) + dc #Senoidal\n",
    "    return [tt, xx]"
   ]
  },
  {
   "cell_type": "markdown",
   "id": "d2585388-3415-46a9-8a3d-d05c31eac9df",
   "metadata": {},
   "source": [
    "### Genero las señales requeridas con sus funciones de probabilidad correspondientes"
   ]
  },
  {
   "cell_type": "code",
   "execution_count": 120,
   "id": "36276ca6-a838-4094-846f-d51cee96125b",
   "metadata": {},
   "outputs": [],
   "source": [
    "#Genero señal aleatoria para el ruido\n",
    "na=np.random.normal(0, desvio, (R,N))\n",
    "#Genero la variable Omega según la distribución de fr\n",
    "fr=np.random.uniform(-2,2,R).reshape((R,1))\n",
    "Omega_1 = Omega_0 + fr*df\n",
    "\n",
    "tt, s = my_sin_gen(vmax = Ac, dc = DC, fo = Fo*Omega_1, ph=tita, nn = N, fs =Fs )\n",
    "\n",
    "ss= s + na"
   ]
  },
  {
   "cell_type": "markdown",
   "id": "e5a968a6-986a-4a69-8464-ebb73184d27f",
   "metadata": {},
   "source": [
    "### Aplico la Ventana Requerida y Obtengo las transformadas para obtener los estimadores de cada ventana\n",
    "Nota: No se plotea el gráfico con las 200 trasnformadas porque se corroboró con antelación para que no queden muchos gráficos en la entrega"
   ]
  },
  {
   "cell_type": "markdown",
   "id": "b4c0a41c-dd3d-477c-8435-fe01e07ef043",
   "metadata": {},
   "source": [
    "**Ventana Recctangular**"
   ]
  },
  {
   "cell_type": "code",
   "execution_count": 121,
   "id": "f5e2dc4c-8b5b-476f-aa04-85d093229287",
   "metadata": {},
   "outputs": [],
   "source": [
    "#%%Ventana Rectangular\n",
    "\n",
    "wi_1 = sig.windows.get_window('boxcar', len(tt))\n",
    "\n",
    "X_1 = ss * wi_1\n",
    "\n",
    "TFF_X_1=np.fft.fft(X_1, axis = -1)/len(tt)#Espectro de la señal cuantizada\n",
    "mod_X_1=np.abs(TFF_X_1)\n",
    "#mod_X_LOG_=10*np.log10(2*np.abs(TFF_X_1)**2)\n",
    "# #ff = np.arange(0,Fs,df) # grilla de frecuencia\n",
    "# #bfrec = ff <= Fs/2\n",
    "\n",
    "# st = int (N/4) - 10\n",
    "# fin = int (N/4) + 10\n",
    "\n",
    "\n",
    "# plt.figure(\"DFT Senoidales\",figsize=(15, 7))\n",
    "# plt.title('DFT Senoidales')\n",
    "# #plt.plot(mod_X[0,:])\n",
    "# plt.plot(mod_X_LOG[:,st:fin].transpose())\n",
    "# plt.ylabel(\"DFT Amplitude |X(freq)|\")\n",
    "# plt.legend()\n",
    "# plt.show()\n",
    "\n",
    "lim = int (N/4)-1\n",
    "\n",
    "# #Me quedo con la columna correspondiente a pi/2 que sería el equivalente de fs/4 = 1000/4 = 250\n",
    "a_estimador_1 = mod_X_1[:,lim] # Estimador para ventana rectangular\n",
    "\n",
    "Omega_estimador_1 = np.argmax(mod_X_1[:,0:N//2],axis=1)#Recordar recortar a Nyquist\n",
    "\n",
    "Esperanza_a_1 = sum(a_estimador_1/200)\n",
    "Esperanza_Omega_1 = sum(Omega_estimador_1/200)\n",
    "S_a_3dB = Esperanza_a_1 - Ac\n",
    "V_a_3dB = sum((a_estimador_1-Esperanza_a_1)**2)/200\n",
    "S_Omega_3db = sum(Omega_1.flatten() - Omega_estimador_1.flatten())/200\n",
    "V_Omega_3db = sum((Omega_estimador_1-Esperanza_Omega_1)**2)/200\n"
   ]
  },
  {
   "cell_type": "markdown",
   "id": "6b8d83ae-98fc-48a7-897f-efa8c0417f3f",
   "metadata": {},
   "source": [
    "**Ventana Flattop**"
   ]
  },
  {
   "cell_type": "code",
   "execution_count": 122,
   "id": "3f96de9d-ca56-4c57-94a8-29c1c785ea31",
   "metadata": {},
   "outputs": [],
   "source": [
    "wi_2 = sig.windows.get_window('flattop', len(tt))\n",
    "\n",
    "X_2 = ss * wi_2\n",
    "\n",
    "TFF_X_2=np.fft.fft(X_2, axis = -1)/len(tt)#Espectro de la señal cuantizada\n",
    "mod_X_2=np.abs(TFF_X_2)\n",
    "mod_X_LOG_2=10*np.log10(2*np.abs(TFF_X_2)**2)\n",
    "# #ff = np.arange(0,Fs,df) # grilla de frecuencia\n",
    "# #bfrec = ff <= Fs/2\n",
    "\n",
    "# st = int (N/4) - 10\n",
    "# fin = int (N/4) + 10\n",
    "\n",
    "\n",
    "# plt.figure(\"DFT Senoidales\",figsize=(15, 7))\n",
    "# plt.title('DFT Senoidales')\n",
    "# #plt.plot(mod_X[0,:])\n",
    "# plt.plot(mod_X_LOG[:,st:fin].transpose())\n",
    "# plt.ylabel(\"DFT Amplitude |X(freq)|\")\n",
    "# plt.legend()\n",
    "# plt.show()\n",
    "\n",
    "#lim = int (N/4)-1\n",
    "\n",
    "# #Me quedo con la columna correspondiente a pi/2 que sería el equivalente de fs/4 = 1000/4 = 250\n",
    "a_estimador_2 = mod_X_2[:,lim] # Estimador para ventana rectangular\n",
    "\n",
    "Omega_estimador_2 = np.argmax(mod_X_2[:,0:N//2],axis=1)#Recordar recortar a Nyquist\n",
    "\n",
    "Esperanza_a_2 = sum(a_estimador_2/200)\n",
    "Esperanza_Omega_2 = sum(Omega_estimador_2/200)\n",
    "S_a_FL_3dB = Esperanza_a_2 - Ac\n",
    "V_a_FL_3dB = sum((a_estimador_2-Esperanza_a_2)**2)/200\n",
    "S_Omega_FL_3db = sum(Omega_1.flatten() - Omega_estimador_2.flatten())/200\n",
    "V_Omega_FL_3db = sum((Omega_estimador_2-Esperanza_Omega_2)**2)/200"
   ]
  },
  {
   "cell_type": "markdown",
   "id": "16d3af28-a16b-40be-8371-63a798539071",
   "metadata": {},
   "source": [
    "**Ventana Blackmanharris**"
   ]
  },
  {
   "cell_type": "code",
   "execution_count": 123,
   "id": "3e513737-38a2-4fc2-afaf-476e0a035998",
   "metadata": {},
   "outputs": [],
   "source": [
    "wi_3 = sig.windows.get_window('blackmanharris', len(tt))\n",
    "\n",
    "X_3 = ss * wi_3\n",
    "\n",
    "TFF_X_3=np.fft.fft(X_3, axis = -1)/len(tt)#Espectro de la señal cuantizada\n",
    "mod_X_3=np.abs(TFF_X_3)\n",
    "mod_X_LOG_3=10*np.log10(2*np.abs(TFF_X_3)**2)\n",
    "# #ff = np.arange(0,Fs,df) # grilla de frecuencia\n",
    "# #bfrec = ff <= Fs/2\n",
    "\n",
    "# st = int (N/4) - 10\n",
    "# fin = int (N/4) + 10\n",
    "\n",
    "\n",
    "# plt.figure(\"DFT Senoidales\",figsize=(15, 7))\n",
    "# plt.title('DFT Senoidales')\n",
    "# #plt.plot(mod_X[0,:])\n",
    "# plt.plot(mod_X_LOG[:,st:fin].transpose())\n",
    "# plt.ylabel(\"DFT Amplitude |X(freq)|\")\n",
    "# plt.legend()\n",
    "# plt.show()\n",
    "\n",
    "# lim = int (N/4)-1\n",
    "\n",
    "# #Me quedo con la columna correspondiente a pi/2 que sería el equivalente de fs/4 = 1000/4 = 250\n",
    "a_estimador_3 = mod_X_3[:,lim] # Estimador para ventana rectangular\n",
    "\n",
    "Omega_estimador_3 = np.argmax(mod_X_3[:,0:N//2],axis=1)#Recordar recortar a Nyquist\n",
    "\n",
    "Esperanza_a_3 = sum(a_estimador_3/200)\n",
    "Esperanza_Omega_3 = sum(Omega_estimador_3/200)\n",
    "S_a_BL_3dB = Esperanza_a_3 - Ac\n",
    "V_a_BL_3dB = sum((a_estimador_3-Esperanza_a_3)**2)/200\n",
    "S_Omega_BL_3db = sum(Omega_1.flatten() - Omega_estimador_3.flatten())/200\n",
    "V_Omega_BL_3db = sum((Omega_estimador_3-Esperanza_Omega_3)**2)/200"
   ]
  },
  {
   "cell_type": "markdown",
   "id": "b237e0d2-47bd-45da-becd-66a943b1063a",
   "metadata": {},
   "source": [
    "**Ventana Hamming**"
   ]
  },
  {
   "cell_type": "code",
   "execution_count": 124,
   "id": "94243d26-b905-4588-a581-7c2e10be5b46",
   "metadata": {},
   "outputs": [],
   "source": [
    "wi_4 = sig.windows.get_window('hamming', len(tt))\n",
    "\n",
    "X_4 = ss * wi_4\n",
    "\n",
    "TFF_X_4=np.fft.fft(X_4, axis = -1)/len(tt)#Espectro de la señal cuantizada\n",
    "mod_X_4=np.abs(TFF_X_4)\n",
    "mod_X_LOG_4=10*np.log10(2*np.abs(TFF_X_4)**2)\n",
    "# #ff = np.arange(0,Fs,df) # grilla de frecuencia\n",
    "# #bfrec = ff <= Fs/2\n",
    "\n",
    "# st = int (N/4) - 10\n",
    "# fin = int (N/4) + 10\n",
    "\n",
    "\n",
    "# plt.figure(\"DFT Senoidales\",figsize=(15, 7))\n",
    "# plt.title('DFT Senoidales')\n",
    "# #plt.plot(mod_X[0,:])\n",
    "# plt.plot(mod_X_LOG[:,st:fin].transpose())\n",
    "# plt.ylabel(\"DFT Amplitude |X(freq)|\")\n",
    "# plt.legend()\n",
    "# plt.show()\n",
    "\n",
    "# lim = int (N/4)-1\n",
    "\n",
    "# #Me quedo con la columna correspondiente a pi/2 que sería el equivalente de fs/4 = 1000/4 = 250\n",
    "a_estimador_4 = mod_X_4[:,lim] # Estimador para ventana rectangular\n",
    "\n",
    "Omega_estimador_4 = np.argmax(mod_X_4[:,0:N//2],axis=1)#Recordar recortar a Nyquist\n",
    "\n",
    "Esperanza_a_4 = sum(a_estimador_4/200)\n",
    "Esperanza_Omega_4 = sum(Omega_estimador_4/200)\n",
    "S_a_HG_3dB = Esperanza_a_4 - Ac\n",
    "V_a_HG_3dB = sum((a_estimador_4-Esperanza_a_4)**2)/200\n",
    "S_Omega_HG_3db = sum(Omega_1.flatten() - Omega_estimador_4.flatten())/200\n",
    "V_Omega_HG_3db = sum((Omega_estimador_4-Esperanza_Omega_4)**2)/200"
   ]
  },
  {
   "cell_type": "markdown",
   "id": "223a45ae-2bbe-476c-b518-e28349b81401",
   "metadata": {},
   "source": [
    "### Ahora se repetirá el proceso anterior pero cambiando la SNR a 10dB"
   ]
  },
  {
   "cell_type": "code",
   "execution_count": 125,
   "id": "2de9f35e-d2ef-4b75-9bc6-50e554db41df",
   "metadata": {},
   "outputs": [],
   "source": [
    "SNR = 10 # SNR en dB\n",
    "sigma = (10**(-SNR/10)) #Varianza\n",
    "desvio = sigma**0.5 #Desvío Estándar"
   ]
  },
  {
   "cell_type": "code",
   "execution_count": 126,
   "id": "283170ee-0f46-417f-aaf8-87e0a9f37681",
   "metadata": {},
   "outputs": [],
   "source": [
    "#Genero señal aleatoria para el ruido\n",
    "na=np.random.normal(0, desvio, (R,N))\n",
    "#Genero la variable Omega según la distribución de fr\n",
    "fr=np.random.uniform(-2,2,R).reshape((R,1))\n",
    "Omega_1 = Omega_0 + fr*df\n",
    "\n",
    "tt, s = my_sin_gen(vmax = Ac, dc = DC, fo = Fo*Omega_1, ph=tita, nn = N, fs =Fs )\n",
    "\n",
    "ss= s + na"
   ]
  },
  {
   "cell_type": "markdown",
   "id": "f65beee2-d0d8-4555-a0ba-973649ff7257",
   "metadata": {},
   "source": [
    "**Ventana Rectangular**"
   ]
  },
  {
   "cell_type": "code",
   "execution_count": 127,
   "id": "6c635246-3f48-4d09-bf8b-cebd70ab6744",
   "metadata": {},
   "outputs": [],
   "source": [
    "X_5 = ss * wi_1\n",
    "\n",
    "TFF_X_5=np.fft.fft(X_5, axis = -1)/len(tt)#Espectro de la señal cuantizada\n",
    "mod_X_5=np.abs(TFF_X_5)\n",
    "mod_X_LOG_5=10*np.log10(2*np.abs(TFF_X_5)**2)\n",
    "# #ff = np.arange(0,Fs,df) # grilla de frecuencia\n",
    "# #bfrec = ff <= Fs/2\n",
    "\n",
    "# st = int (N/4) - 10\n",
    "# fin = int (N/4) + 10\n",
    "\n",
    "\n",
    "# plt.figure(\"DFT Senoidales\",figsize=(15, 7))\n",
    "# plt.title('DFT Senoidales')\n",
    "# #plt.plot(mod_X[0,:])\n",
    "# plt.plot(mod_X_LOG[:,st:fin].transpose())\n",
    "# plt.ylabel(\"DFT Amplitude |X(freq)|\")\n",
    "# plt.legend()\n",
    "# plt.show()\n",
    "\n",
    "# lim = int (N/4)-1\n",
    "\n",
    "# #Me quedo con la columna correspondiente a pi/2 que sería el equivalente de fs/4 = 1000/4 = 250\n",
    "a_estimador_5 = mod_X_5[:,lim] # Estimador para ventana rectangular\n",
    "\n",
    "Omega_estimador_5 = np.argmax(mod_X_5[:,0:N//2],axis=1)#Recordar recortar a Nyquist\n",
    "\n",
    "Esperanza_a_5 = sum(a_estimador_5/200)\n",
    "Esperanza_Omega_5 = sum(Omega_estimador_5/200)\n",
    "\n",
    "S_a_10dB = Esperanza_a_5 - Ac\n",
    "V_a_10dB = sum((a_estimador_5-Esperanza_a_5)**2)/200\n",
    "S_Omega_10db = sum(Omega_1.flatten() - Omega_estimador_5.flatten())/200\n",
    "V_Omega_10db = sum((Omega_estimador_5-Esperanza_Omega_5)**2)/200"
   ]
  },
  {
   "cell_type": "markdown",
   "id": "12f9e44d-760c-47b1-b6ce-9103b4b768e1",
   "metadata": {},
   "source": [
    "**Ventana Flattop**"
   ]
  },
  {
   "cell_type": "code",
   "execution_count": 128,
   "id": "86883ebc-4c29-43eb-9fc4-4274b3f1b527",
   "metadata": {},
   "outputs": [],
   "source": [
    "X_6 = ss * wi_2\n",
    "\n",
    "TFF_X_6=np.fft.fft(X_6, axis = -1)/len(tt)#Espectro de la señal cuantizada\n",
    "mod_X_6=np.abs(TFF_X_6)\n",
    "mod_X_LOG_6=10*np.log10(2*np.abs(TFF_X_6)**2)\n",
    "# #ff = np.arange(0,Fs,df) # grilla de frecuencia\n",
    "# #bfrec = ff <= Fs/2\n",
    "\n",
    "# st = int (N/4) - 10\n",
    "# fin = int (N/4) + 10\n",
    "\n",
    "\n",
    "# plt.figure(\"DFT Senoidales\",figsize=(15, 7))\n",
    "# plt.title('DFT Senoidales')\n",
    "# #plt.plot(mod_X[0,:])\n",
    "# plt.plot(mod_X_LOG[:,st:fin].transpose())\n",
    "# plt.ylabel(\"DFT Amplitude |X(freq)|\")\n",
    "# plt.legend()\n",
    "# plt.show()\n",
    "\n",
    "# lim = int (N/4)-1\n",
    "\n",
    "# #Me quedo con la columna correspondiente a pi/2 que sería el equivalente de fs/4 = 1000/4 = 250\n",
    "a_estimador_6 = mod_X_6[:,lim] # Estimador para ventana rectangular\n",
    "\n",
    "Omega_estimador_6 = np.argmax(mod_X_6[:,0:N//2],axis=1)#Recordar recortar a Nyquist\n",
    "\n",
    "Esperanza_a_6 = sum(a_estimador_6/200)\n",
    "Esperanza_Omega_6 = sum(Omega_estimador_6/200)\n",
    "\n",
    "S_a_FL_10dB = Esperanza_a_6 - Ac\n",
    "V_a_FL_10dB = sum((a_estimador_6-Esperanza_a_6)**2)/200\n",
    "S_Omega_FL_10db = sum(Omega_1.flatten() - Omega_estimador_6.flatten())/200\n",
    "V_Omega_FL_10db = sum((Omega_estimador_6-Esperanza_Omega_6)**2)/200"
   ]
  },
  {
   "cell_type": "markdown",
   "id": "f122f0f7-8592-42c4-9365-c87fab161632",
   "metadata": {},
   "source": [
    "**Ventana Blackmanharris**"
   ]
  },
  {
   "cell_type": "code",
   "execution_count": 129,
   "id": "43454fc1-1fb9-41ed-bf9b-7d25dff64460",
   "metadata": {},
   "outputs": [],
   "source": [
    "X_7 = ss * wi_3\n",
    "\n",
    "TFF_X_7=np.fft.fft(X_7, axis = -1)/len(tt)#Espectro de la señal cuantizada\n",
    "mod_X_7=np.abs(TFF_X_7)\n",
    "mod_X_LOG_7=10*np.log10(2*np.abs(TFF_X_7)**2)\n",
    "# #ff = np.arange(0,Fs,df) # grilla de frecuencia\n",
    "# #bfrec = ff <= Fs/2\n",
    "\n",
    "# st = int (N/4) - 10\n",
    "# fin = int (N/4) + 10\n",
    "\n",
    "\n",
    "# plt.figure(\"DFT Senoidales\",figsize=(15, 7))\n",
    "# plt.title('DFT Senoidales')\n",
    "# #plt.plot(mod_X[0,:])\n",
    "# plt.plot(mod_X_LOG[:,st:fin].transpose())\n",
    "# plt.ylabel(\"DFT Amplitude |X(freq)|\")\n",
    "# plt.legend()\n",
    "# plt.show()\n",
    "\n",
    "# lim = int (N/4)-1\n",
    "\n",
    "# #Me quedo con la columna correspondiente a pi/2 que sería el equivalente de fs/4 = 1000/4 = 250\n",
    "a_estimador_7 = mod_X_7[:,lim] # Estimador para ventana rectangular\n",
    "\n",
    "Omega_estimador_7 = np.argmax(mod_X_7[:,0:N//2],axis=1)#Recordar recortar a Nyquist\n",
    "\n",
    "Esperanza_a_7 = sum(a_estimador_7/200)\n",
    "Esperanza_Omega_7 = sum(Omega_estimador_7/200)\n",
    "\n",
    "S_a_BL_10dB = Esperanza_a_7 - Ac\n",
    "V_a_BL_10dB = sum((a_estimador_7-Esperanza_a_7)**2)/200\n",
    "S_Omega_BL_10db = sum(Omega_1.flatten() - Omega_estimador_7.flatten())/200\n",
    "V_Omega_BL_10db = sum((Omega_estimador_7-Esperanza_Omega_7)**2)/200"
   ]
  },
  {
   "cell_type": "markdown",
   "id": "cb4cdc3c-ecf9-49cd-8a75-cab295b46367",
   "metadata": {},
   "source": [
    "**Ventana Hamming**"
   ]
  },
  {
   "cell_type": "code",
   "execution_count": 130,
   "id": "0840db7e-f3a5-412b-a75b-dd6196802a04",
   "metadata": {},
   "outputs": [],
   "source": [
    "X_8 = ss * wi_4\n",
    "\n",
    "TFF_X_8=np.fft.fft(X_8, axis = -1)/len(tt)#Espectro de la señal cuantizada\n",
    "mod_X_8=np.abs(TFF_X_8)\n",
    "mod_X_LOG_8=10*np.log10(2*np.abs(TFF_X_8)**2)\n",
    "#ff = np.arange(0,Fs,df) # grilla de frecuencia\n",
    "#bfrec = ff <= Fs/2\n",
    "\n",
    "#st = int (N/4) - 10\n",
    "#fin = int (N/4) + 10\n",
    "\n",
    "\n",
    "# plt.figure(\"DFT Senoidales\",figsize=(15, 7))\n",
    "# plt.title('DFT Senoidales')\n",
    "# #plt.plot(mod_X[0,:])\n",
    "# plt.plot(mod_X_LOG[:,st:fin].transpose())\n",
    "# plt.ylabel(\"DFT Amplitude |X(freq)|\")\n",
    "# plt.legend()\n",
    "# plt.show()\n",
    "\n",
    "#lim = int (N/4)-1\n",
    "\n",
    "#Me quedo con la columna correspondiente a pi/2 que sería el equivalente de fs/4 = 1000/4 = 250\n",
    "a_estimador_8 = mod_X_8[:,lim] # Estimador para ventana rectangular\n",
    "\n",
    "Omega_estimador_8 = np.argmax(mod_X_8[:,0:N//2],axis=1)#Recordar recortar a Nyquist\n",
    "\n",
    "Esperanza_a_8 = sum(a_estimador_8/200)\n",
    "Esperanza_Omega_8 = sum(Omega_estimador_8/200)\n",
    "\n",
    "S_a_HG_10dB = Esperanza_a_8 - Ac\n",
    "V_a_HG_10dB = sum((a_estimador_8-Esperanza_a_8)**2)/200\n",
    "\n",
    "S_Omega_HG_10db = sum(Omega_1.flatten() - Omega_estimador_8.flatten())/200\n",
    "V_Omega_HG_10db = sum((Omega_estimador_8-Esperanza_Omega_8)**2)/200"
   ]
  },
  {
   "cell_type": "code",
   "execution_count": 131,
   "id": "0b062fa9-1571-42fa-8cdb-62a02ccc4de5",
   "metadata": {},
   "outputs": [],
   "source": [
    "lista_A = ['Rectangular', 'Flat-top','Blackman', 'Hamming']\n",
    "A = np.array([[S_a_3dB], [S_a_FL_3dB], [S_a_BL_3dB], [S_a_HG_3dB]])\n",
    "B = np.array([[V_a_3dB], [V_a_FL_3dB], [V_a_BL_3dB], [V_a_HG_3dB]])\n",
    "C = np.array([[S_Omega_3db], [S_Omega_FL_3db], [S_Omega_BL_3db], [S_Omega_HG_3db]])\n",
    "D = np.array([[V_Omega_3db], [V_Omega_FL_3db], [V_Omega_BL_3db],[V_Omega_HG_3db]])"
   ]
  },
  {
   "cell_type": "code",
   "execution_count": 132,
   "id": "1c4e8ed9-acd0-49e2-a507-6420eec5a0cc",
   "metadata": {},
   "outputs": [
    {
     "data": {
      "text/html": [
       "<h2 style='font-weight: bold; font-style: italic; text-decoration: underline; color: darkblue;'>Tablas con valores para 3 dB</h2>"
      ],
      "text/plain": [
       "<IPython.core.display.HTML object>"
      ]
     },
     "metadata": {},
     "output_type": "display_data"
    },
    {
     "data": {
      "text/markdown": [
       "| Ventana | $s_a$       | $v_a$       |\n",
       "| ---- | ------- | ------- |\n",
       "| Rectangular | -1.1743 | 0.0570 |\n",
       "| Flat-top | -1.2903 | 0.0013 |\n",
       "| Blackman | -1.2707 | 0.0077 |\n",
       "| Hamming | -1.2516 | 0.0207 |\n"
      ],
      "text/plain": [
       "<IPython.core.display.Markdown object>"
      ]
     },
     "metadata": {},
     "output_type": "display_data"
    },
    {
     "data": {
      "text/markdown": [
       "| Ventana | $s_Ω$       | $v_Ω$       |\n",
       "| ---- | ------- | ------- |\n",
       "| Rectangular | -0.0381 | 0.0570 |\n",
       "| Flat-top | 0.0219 | 0.0013 |\n",
       "| Blackman | -0.0281 | 0.0077 |\n",
       "| Hamming | -0.0281 | 0.0207 |\n"
      ],
      "text/plain": [
       "<IPython.core.display.Markdown object>"
      ]
     },
     "metadata": {},
     "output_type": "display_data"
    }
   ],
   "source": [
    "from IPython.display import Markdown, display\n",
    "from IPython.display import display, HTML\n",
    "\n",
    "display(HTML(\"<h2 style='font-weight: bold; font-style: italic; text-decoration: underline; color: darkblue;'>Tablas con valores para 3 dB</h2>\"))\n",
    "# Cabecera\n",
    "header = f\"| Ventana | $s_a$       | $v_a$       |\\n\"\n",
    "separator = \"| ---- | ------- | ------- |\\n\"\n",
    "\n",
    "# Cuerpo\n",
    "body = \"\"\n",
    "for i, nombre_fila in enumerate(lista_A):\n",
    "    a_val = f\"{A[i, 0]:.4f}\"\n",
    "    b_val = f\"{B[i, 0]:.4f}\"\n",
    "    body += f\"| {nombre_fila} | {a_val} | {b_val} |\\n\"\n",
    "\n",
    "# Combinar y mostrar\n",
    "markdown_table = header + separator + body\n",
    "display(Markdown(markdown_table))\n",
    "\n",
    "# Cabecera\n",
    "header = f\"| Ventana | $s_Ω$       | $v_Ω$       |\\n\"\n",
    "separator = \"| ---- | ------- | ------- |\\n\"\n",
    "\n",
    "# Cuerpo\n",
    "body = \"\"\n",
    "for i, nombre_fila in enumerate(lista_A):\n",
    "    a_val = f\"{C[i, 0]:.4f}\"\n",
    "    b_val = f\"{B[i, 0]:.4f}\"\n",
    "    body += f\"| {nombre_fila} | {a_val} | {b_val} |\\n\"\n",
    "\n",
    "# Combinar y mostrar\n",
    "markdown_table = header + separator + body\n",
    "display(Markdown(markdown_table))"
   ]
  },
  {
   "cell_type": "code",
   "execution_count": 133,
   "id": "2b02a23d-aef2-4a25-b5c2-bdb41d725347",
   "metadata": {},
   "outputs": [],
   "source": [
    "A = np.array([[S_a_10dB], [S_a_FL_10dB], [S_a_BL_10dB], [S_a_HG_10dB]])\n",
    "B = np.array([[V_a_10dB], [V_a_FL_10dB], [V_a_BL_10dB], [V_a_HG_10dB]])\n",
    "C = np.array([[S_Omega_10db], [S_Omega_FL_10db], [S_Omega_BL_10db], [S_Omega_HG_10db]])\n",
    "D = np.array([[V_Omega_10db], [V_Omega_FL_10db], [V_Omega_BL_10db],[V_Omega_HG_10db]])"
   ]
  },
  {
   "cell_type": "code",
   "execution_count": 134,
   "id": "5aa28ec3-d7de-4d42-8a67-e293ecadda71",
   "metadata": {},
   "outputs": [
    {
     "data": {
      "text/html": [
       "<h2 style='font-weight: bold; font-style: italic; text-decoration: underline; color: darkblue;'>Tablas con valores para 10 dB</h2>"
      ],
      "text/plain": [
       "<IPython.core.display.HTML object>"
      ]
     },
     "metadata": {},
     "output_type": "display_data"
    },
    {
     "data": {
      "text/markdown": [
       "| Ventana | $s_a$       | $v_a$       |\n",
       "| ---- | ------- | ------- |\n",
       "| Rectangular | -1.1712 | 0.0549 |\n",
       "| Flat-top | -1.2931 | 0.0017 |\n",
       "| Blackman | -1.2717 | 0.0085 |\n",
       "| Hamming | -1.2494 | 0.0209 |\n"
      ],
      "text/plain": [
       "<IPython.core.display.Markdown object>"
      ]
     },
     "metadata": {},
     "output_type": "display_data"
    },
    {
     "data": {
      "text/markdown": [
       "| Ventana | $s_Ω$       | $v_Ω$       |\n",
       "| ---- | ------- | ------- |\n",
       "| Rectangular | 0.0045 | 0.0549 |\n",
       "| Flat-top | 0.0195 | 0.0017 |\n",
       "| Blackman | 0.0145 | 0.0085 |\n",
       "| Hamming | 0.0045 | 0.0209 |\n"
      ],
      "text/plain": [
       "<IPython.core.display.Markdown object>"
      ]
     },
     "metadata": {},
     "output_type": "display_data"
    }
   ],
   "source": [
    "display(HTML(\"<h2 style='font-weight: bold; font-style: italic; text-decoration: underline; color: darkblue;'>Tablas con valores para 10 dB</h2>\"))\n",
    "# Cabecera\n",
    "header = f\"| Ventana | $s_a$       | $v_a$       |\\n\"\n",
    "separator = \"| ---- | ------- | ------- |\\n\"\n",
    "\n",
    "# Cuerpo\n",
    "body = \"\"\n",
    "for i, nombre_fila in enumerate(lista_A):\n",
    "    a_val = f\"{A[i, 0]:.4f}\"\n",
    "    b_val = f\"{B[i, 0]:.4f}\"\n",
    "    body += f\"| {nombre_fila} | {a_val} | {b_val} |\\n\"\n",
    "\n",
    "# Combinar y mostrar\n",
    "markdown_table = header + separator + body\n",
    "display(Markdown(markdown_table))\n",
    "\n",
    "# Cabecera\n",
    "header = f\"| Ventana | $s_Ω$       | $v_Ω$       |\\n\"\n",
    "separator = \"| ---- | ------- | ------- |\\n\"\n",
    "\n",
    "# Cuerpo\n",
    "body = \"\"\n",
    "for i, nombre_fila in enumerate(lista_A):\n",
    "    a_val = f\"{C[i, 0]:.4f}\"\n",
    "    b_val = f\"{B[i, 0]:.4f}\"\n",
    "    body += f\"| {nombre_fila} | {a_val} | {b_val} |\\n\"\n",
    "\n",
    "# Combinar y mostrar\n",
    "markdown_table = header + separator + body\n",
    "display(Markdown(markdown_table))"
   ]
  },
  {
   "cell_type": "code",
   "execution_count": 135,
   "id": "411a5b3e-2a2f-4b81-bcf7-51e57ff6c307",
   "metadata": {},
   "outputs": [],
   "source": [
    "wi_1 = sig.windows.get_window('boxcar', len(tt))\n",
    "wi_2 = sig.windows.get_window('flattop', len(tt))\n",
    "wi_3 = sig.windows.get_window('blackmanharris', len(tt))\n",
    "wi_4 = sig.windows.get_window('hamming', len(tt))\n",
    "\n",
    "X_1 = ss * wi_1\n",
    "X_2 = ss * wi_2\n",
    "X_3 = ss * wi_3\n",
    "X_4 = ss * wi_4\n",
    "\n",
    "TFF_X_1=np.fft.fft(X_1, n=10*N, axis = -1)/len(tt)#Espectro de la señal cuantizada\n",
    "mod_X_1=np.abs(TFF_X_1)\n",
    "TFF_X_2=np.fft.fft(X_2, n=10*N, axis = -1)/len(tt)#Espectro de la señal cuantizada\n",
    "mod_X_2=np.abs(TFF_X_2)\n",
    "TFF_X_3=np.fft.fft(X_3, n=10*N, axis = -1)/len(tt)#Espectro de la señal cuantizada\n",
    "mod_X_3=np.abs(TFF_X_3)\n",
    "TFF_X_4=np.fft.fft(X_4, n=10*N, axis = -1)/len(tt)#Espectro de la señal cuantizada\n",
    "mod_X_4=np.abs(TFF_X_4)\n",
    "\n",
    "Omega_estimador_1_A = np.argmax(mod_X_1[:,0:N//2],axis=1)\n",
    "Omega_estimador_2_A = np.argmax(mod_X_2[:,0:N//2],axis=1)\n",
    "Omega_estimador_3_A = np.argmax(mod_X_3[:,0:N//2],axis=1)\n",
    "Omega_estimador_4_A = np.argmax(mod_X_4[:,0:N//2],axis=1)\n",
    "\n",
    "Esperanza_Omega_1 = sum(Omega_estimador_1_A/200)\n",
    "Esperanza_Omega_2 = sum(Omega_estimador_2_A/200)\n",
    "Esperanza_Omega_3 = sum(Omega_estimador_3_A/200)\n",
    "Esperanza_Omega_4 = sum(Omega_estimador_4_A/200)\n",
    "\n",
    "S_Omega_1 = sum(Omega_1.flatten() - Omega_estimador_1.flatten())/200\n",
    "V_Omega_1 = sum((Omega_estimador_1-Esperanza_Omega_1)**2)/200\n",
    "S_Omega_2 = sum(Omega_1.flatten() - Omega_estimador_2.flatten())/200\n",
    "V_Omega_2 = sum((Omega_estimador_2-Esperanza_Omega_2)**2)/200\n",
    "S_Omega_3 = sum(Omega_1.flatten() - Omega_estimador_3.flatten())/200\n",
    "V_Omega_3 = sum((Omega_estimador_3-Esperanza_Omega_3)**2)/200\n",
    "S_Omega_4 = sum(Omega_1.flatten() - Omega_estimador_4.flatten())/200\n",
    "V_Omega_4 = sum((Omega_estimador_4-Esperanza_Omega_4)**2)/200"
   ]
  },
  {
   "cell_type": "code",
   "execution_count": 136,
   "id": "b35d2ce7-dae4-41b1-a65a-b3f2a0df838f",
   "metadata": {},
   "outputs": [],
   "source": [
    "E = np.array([[S_Omega_1], [S_Omega_2], [S_Omega_3], [S_Omega_4]])\n",
    "F = np.array([[V_Omega_1], [V_Omega_2], [V_Omega_3],[V_Omega_4]])"
   ]
  },
  {
   "cell_type": "code",
   "execution_count": 137,
   "id": "e7a50ec8-825b-4e85-b323-55ccb21b9055",
   "metadata": {},
   "outputs": [
    {
     "data": {
      "text/html": [
       "<h2 style='font-weight: bold; font-style: italic; text-decoration: underline; color: darkblue;'>Tablas con valores para Zero padding</h2>"
      ],
      "text/plain": [
       "<IPython.core.display.HTML object>"
      ]
     },
     "metadata": {},
     "output_type": "display_data"
    },
    {
     "data": {
      "text/markdown": [
       "| Ventana | $s_Ω$       | $v_Ω$       |\n",
       "| ---- | ------- | ------- |\n",
       "| Rectangular | 0.0145 | 84.6288 |\n",
       "| Flat-top | 0.0745 | 45.9694 |\n",
       "| Blackman | 0.0245 | 49.6184 |\n",
       "| Hamming | 0.0245 | 2.6980 |\n"
      ],
      "text/plain": [
       "<IPython.core.display.Markdown object>"
      ]
     },
     "metadata": {},
     "output_type": "display_data"
    }
   ],
   "source": [
    "display(HTML(\"<h2 style='font-weight: bold; font-style: italic; text-decoration: underline; color: darkblue;'>Tablas con valores para Zero padding</h2>\"))\n",
    "# Cabecera\n",
    "header = f\"| Ventana | $s_Ω$       | $v_Ω$       |\\n\"\n",
    "separator = \"| ---- | ------- | ------- |\\n\"\n",
    "\n",
    "# Cuerpo\n",
    "body = \"\"\n",
    "for i, nombre_fila in enumerate(lista_A):\n",
    "    a_val = f\"{E[i, 0]:.4f}\"\n",
    "    b_val = f\"{F[i, 0]:.4f}\"\n",
    "    body += f\"| {nombre_fila} | {a_val} | {b_val} |\\n\"\n",
    "\n",
    "# Combinar y mostrar\n",
    "markdown_table = header + separator + body\n",
    "display(Markdown(markdown_table))"
   ]
  },
  {
   "cell_type": "markdown",
   "id": "492cc478-b364-4858-adc5-c9cde5fa5a02",
   "metadata": {},
   "source": [
    "# Conclusiones\n",
    "\n",
    "#### En esta tarea se observa feacientemente la influencia de la ventana utilizada para analizar la señal en cuestión. Con estos resultados se concluye que la mejor opción es la ventana que genera una menor varianza, ya que el sesgo se lo considera similar a un error sistemático, es constante y repetible en cada medición y se manifiesta de forma predecible. La Varianza al ser más pequeña indica una menor dispersión en los resultados, por lo que será la mejor opción para el análisis de datos. También se puede afirmar que a pesar del cambio de SNR no varían mucho los sesgos y varianzas.\n",
    "#### Se puede observar que al hacer Zero padding al calcular la varianza y el sesgo los valores varían un montón ya que al agregar tantos ceros modifica abruptamente todos los cálculos"
   ]
  },
  {
   "cell_type": "markdown",
   "id": "e63b60f0-fafa-42cc-a87b-95282d6ef412",
   "metadata": {},
   "source": [
    "### Gráfico de los distintos histogramas para ambos estimadores en ambos casos"
   ]
  },
  {
   "cell_type": "code",
   "execution_count": 139,
   "id": "bf7e172c-dad5-491c-8f9d-0c93abbb6043",
   "metadata": {},
   "outputs": [
    {
     "data": {
      "image/png": "[encoded data removed]",
      "text/plain": [
       "<Figure size 1500x700 with 1 Axes>"
      ]
     },
     "metadata": {},
     "output_type": "display_data"
    },
    {
     "data": {
      "image/png": "[encoded data removed]",
      "text/plain": [
       "<Figure size 1500x700 with 1 Axes>"
      ]
     },
     "metadata": {},
     "output_type": "display_data"
    },
    {
     "data": {
      "image/png": "[encoded data removed]",
      "text/plain": [
       "<Figure size 1500x700 with 1 Axes>"
      ]
     },
     "metadata": {},
     "output_type": "display_data"
    },
    {
     "data": {
      "image/png": "[encoded data removed]",
      "text/plain": [
       "<Figure size 1500x700 with 1 Axes>"
      ]
     },
     "metadata": {},
     "output_type": "display_data"
    }
   ],
   "source": [
    "plt.close('all')\n",
    "plt.figure(\"Histograma Amplitud 3dB\",figsize=(15, 7))\n",
    "plt.title(f\"Histograma de la Distribución de $a_1^i$ para $3dB$\")\n",
    "plt.hist(a_estimador_1,color = 'red', label=\"Estimador Ventana Rectangular\")\n",
    "plt.hist(a_estimador_2,color = 'blue', label=\"Estimador Ventana Flattop\")\n",
    "plt.hist(a_estimador_3,color = 'green', label=\"Estimador Ventana Blackmanharris\")\n",
    "plt.hist(a_estimador_4,color = 'orange', label=\"Estimador Ventana Hamming\")\n",
    "plt.legend()\n",
    "plt.show()\n",
    "\n",
    "plt.figure(\"Histograma Amplitud 10dB\",figsize=(15, 7))\n",
    "plt.title(f\"Histograma de la Distribución de $a_1^i$ para $10dB$\")\n",
    "plt.hist(a_estimador_5,color = 'red', label=\"Estimador Ventana Rectangular\")\n",
    "plt.hist(a_estimador_6,color = 'blue', label=\"Estimador Ventana Flattop\")\n",
    "plt.hist(a_estimador_7,color = 'green', label=\"Estimador Ventana Blackmanharris\")\n",
    "plt.hist(a_estimador_8,color = 'orange', label=\"Estimador Ventana Hamming\")\n",
    "plt.legend()\n",
    "plt.show()\n",
    "\n",
    "plt.figure(\"Histograma Frecuencia 3dB\",figsize=(15, 7))\n",
    "plt.title(f\"Histograma de la Distribución de $Ω^i_1$ para $3dB$\")\n",
    "plt.hist(Omega_estimador_1,color = 'red', label=\"Estimador Ventana Rectangular\")\n",
    "plt.hist(Omega_estimador_2,color = 'blue', label=\"Estimador Ventana Flattop\")\n",
    "plt.hist(Omega_estimador_3,color = 'green', label=\"Estimador Ventana Blackmanharris\")\n",
    "plt.hist(Omega_estimador_4,color = 'orange', label=\"Estimador Ventana Hamming\")\n",
    "plt.legend()\n",
    "plt.show()\n",
    "\n",
    "plt.figure(\"Histograma Frecuencia 10dB\",figsize=(15, 7))\n",
    "plt.title(f\"Histograma de la Distribución de $Ω^i_1$ para $10dB$\")\n",
    "plt.hist(Omega_estimador_5,color = 'red', label=\"Estimador Ventana Rectangular\")\n",
    "plt.hist(Omega_estimador_6,color = 'blue', label=\"Estimador Ventana Flattop\")\n",
    "plt.hist(Omega_estimador_7,color = 'green', label=\"Estimador Ventana Blackmanharris\")\n",
    "plt.hist(Omega_estimador_8,color = 'orange', label=\"Estimador Ventana Hamming\")\n",
    "plt.legend()\n",
    "plt.show()"
   ]
  },
  {
   "cell_type": "markdown",
   "id": "8fa26080-57d2-483f-aba3-0fe572647892",
   "metadata": {},
   "source": [
    "### El Histograma confirma de cierta forma los cálculos realizados anteriormente ya que para la ventana de flat-top se observa justamente la menor varianza para la amplitud."
   ]
  },
  {
   "cell_type": "code",
   "execution_count": null,
   "id": "dd629949-2389-4dc2-b988-cded4c43e5c8",
   "metadata": {},
   "outputs": [],
   "source": []
  }
 ],
 "metadata": {
  "kernelspec": {
   "display_name": "Python 3 (ipykernel)",
   "language": "python",
   "name": "python3"
  },
  "language_info": {
   "codemirror_mode": {
    "name": "ipython",
    "version": 3
   },
   "file_extension": ".py",
   "mimetype": "text/x-python",
   "name": "python",
   "nbconvert_exporter": "python",
   "pygments_lexer": "ipython3",
   "version": "3.13.2"
  }
 },
 "nbformat": 4,
 "nbformat_minor": 5
}
