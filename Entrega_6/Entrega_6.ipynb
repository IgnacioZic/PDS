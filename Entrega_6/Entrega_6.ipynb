{
 "cells": [
  {
   "cell_type": "markdown",
   "id": "d0f83d9c-6546-4c2e-92d1-2ac80c9c0304",
   "metadata": {},
   "source": [
    "## Entrega 6\n",
    "### Ignacio Ziccardi\n",
    "### Realizar una tabla por cada SNR, que describa el sesgo y la varianza de cada estimador para cada ventana analizada. Recuerde incluir las ventanas rectangular (sin ventana), flattop y blackmanharris y otras que considere (considero Hamming). "
   ]
  },
  {
   "cell_type": "markdown",
   "id": "ee897ca8-f8cc-40d0-bc89-71a2ac407611",
   "metadata": {},
   "source": [
    "$x(k)=a_0⋅sen(Ω_1⋅k)+n_a(n)$<br>\n",
    "siendo<br>\n",
    "$Ω_1=Ω_0+f_r⋅2πN$<br>\n",
    "$Ω_0=\\frac{π}{2}$<br>\n",
    "siendo la variable aleatoria definida por la siguiente distribución de probabilidad<br>\n",
    "$f_r∼U(−2,2)$<br>\n",
    "$na∼N(0,σ^2)$<br>\n",
    "Diseñe los siguientes estimadores,  de amplitud $a_1$<br>\n",
    "$a^i_1=|X^i_w(Ω_0)|=|F{x(n)⋅w_i(n)}|$<br>\n",
    "para la  $i$-ésima realización y la  $w$-ésima ventana (ver detalles debajo). y de frecuencia $Ω_1$<br>\n",
    "$Ω^i_1=arg max{|X^i_w(Ω)|}$\n"
   ]
  },
  {
   "cell_type": "code",
   "execution_count": 46,
   "id": "899e5350-6d67-4869-88c1-3611e3a09e91",
   "metadata": {},
   "outputs": [],
   "source": [
    "import numpy as np\n",
    "import matplotlib.pyplot as plt\n",
    "import scipy.signal as sig\n",
    "import random as random\n",
    "#%%\n",
    "Fo = 1.0\n",
    "Fs = 1000.0 # frecuencia de muestreo (Hz)\n",
    "N = 1000   # cantidad de muestras\n",
    "ts = 1/Fs # tiempo de muestreo\n",
    "df = Fs/N # resolución espectral\n",
    "Ac =2**0.5 #Amplitud \n",
    "DC = 0 #Valor Contínua\n",
    "tita = 0 #Defasaje\n",
    "#----------------------------------------Estos 3 se repetirán cuando se cambie la SNR\n",
    "SNR = 3 # SNR en dB\n",
    "sigma = (10**(-SNR/10)) #Varianza\n",
    "desvio = sigma**0.5 #Desvío Estándar\n",
    "#----------------------------------------\n",
    "Omega_0 = Fs/4\n",
    "R = 200"
   ]
  },
  {
   "cell_type": "code",
   "execution_count": 47,
   "id": "a87e707f-3bc9-4e23-8069-4584e45d9d36",
   "metadata": {},
   "outputs": [],
   "source": [
    "#%% Funciones\n",
    "def my_sin_gen( vmax, dc, fo, ph, nn, fs): \n",
    "    tt = np.arange(0,nn*1/fs,1/fs) # grilla de sampleo temporal\n",
    "    xx = vmax*np.sin(2*np.pi*fo*tt + ph) + dc #Senoidal\n",
    "    return [tt, xx]"
   ]
  },
  {
   "cell_type": "markdown",
   "id": "d2585388-3415-46a9-8a3d-d05c31eac9df",
   "metadata": {},
   "source": [
    "### Genero las señales requeridas con sus funciones de probabilidad correspondientes"
   ]
  },
  {
   "cell_type": "code",
   "execution_count": 48,
   "id": "36276ca6-a838-4094-846f-d51cee96125b",
   "metadata": {},
   "outputs": [],
   "source": [
    "#Genero señal aleatoria para el ruido\n",
    "na=np.random.normal(0, desvio, (R,N))\n",
    "#Genero la variable Omega según la distribución de fr\n",
    "fr=np.random.uniform(-2,2,R).reshape((R,1))\n",
    "Omega_1 = Omega_0 + fr*df\n",
    "\n",
    "tt, s = my_sin_gen(vmax = Ac, dc = DC, fo = Fo*Omega_1, ph=tita, nn = N, fs =Fs )\n",
    "\n",
    "ss= s + na"
   ]
  },
  {
   "cell_type": "markdown",
   "id": "e5a968a6-986a-4a69-8464-ebb73184d27f",
   "metadata": {},
   "source": [
    "### Aplico la Ventana Requerida y Obtengo las transformadas para obtener los estimadores de cada ventana\n",
    "Nota: No se plotea el gráfico con las 200 trasnformadas porque se corroboró con antelación para que no queden muchos gráficos en la entrega"
   ]
  },
  {
   "cell_type": "markdown",
   "id": "b4c0a41c-dd3d-477c-8435-fe01e07ef043",
   "metadata": {},
   "source": [
    "**Ventana Recctangular**"
   ]
  },
  {
   "cell_type": "code",
   "execution_count": 49,
   "id": "f5e2dc4c-8b5b-476f-aa04-85d093229287",
   "metadata": {},
   "outputs": [],
   "source": [
    "wi = sig.windows.get_window('boxcar', len(tt))\n",
    "\n",
    "X_R = ss * wi\n",
    "\n",
    "TFF_X=np.fft.fft(X_R, axis = -1)/len(tt)#Espectro de la señal cuantizada\n",
    "mod_X=np.abs(TFF_X)\n",
    "mod_X_LOG=10*np.log10(2*np.abs(TFF_X)**2)\n",
    "\n",
    "#st = int (N/4) - 10\n",
    "#fin = int (N/4) + 10\n",
    "\n",
    "#Se comentó el ploteo para verificar \n",
    "#plt.figure(\"DFT Senoidales\",figsize=(15, 7))\n",
    "#plt.title('DFT Senoidales')\n",
    "#plt.plot(mod_X[0,:])\n",
    "#plt.plot(mod_X_LOG[:,st:fin].transpose())\n",
    "#plt.ylabel(\"DFT Amplitude |X(freq)|\")\n",
    "#plt.legend()\n",
    "#plt.show()\n",
    "\n",
    "lim = int (N/4)-1 #Columna de Fs/4, el -1 es porque va de 0 a 999\n",
    "\n",
    "#Me quedo con la columna correspondiente a pi/2 que sería el equivalente de fs/4 = 1000/4 = 250\n",
    "a_estimador = mod_X[:,lim] # Estimador para ventana rectangular\n",
    "\n",
    "Omega_estimador = np.argmax(mod_X,axis=1)#Recordar recortar a Nyquist\n",
    "\n",
    "Esperanza_a = sum(a_estimador/200)\n",
    "\n",
    "S_a_3dB = Esperanza_a - Ac\n",
    "V_a_3dB = sum((a_estimador-Esperanza_a)**2)/200\n",
    "\n"
   ]
  },
  {
   "cell_type": "markdown",
   "id": "6b8d83ae-98fc-48a7-897f-efa8c0417f3f",
   "metadata": {},
   "source": [
    "**Ventana Flattop**"
   ]
  },
  {
   "cell_type": "code",
   "execution_count": 50,
   "id": "3f96de9d-ca56-4c57-94a8-29c1c785ea31",
   "metadata": {},
   "outputs": [],
   "source": [
    "wi = sig.windows.get_window('flattop', len(tt))\n",
    "\n",
    "X_FL = ss * wi\n",
    "\n",
    "TFF_X=np.fft.fft(X_FL, axis = -1)/len(tt)#Espectro de la señal cuantizada\n",
    "mod_X=np.abs(TFF_X)\n",
    "mod_X_LOG=10*np.log10(2*np.abs(TFF_X)**2)\n",
    "\n",
    "#st = int (N/4) - 10\n",
    "#fin = int (N/4) + 10\n",
    "\n",
    "#Se comentó el ploteo para verificar \n",
    "#plt.figure(\"DFT Senoidales\",figsize=(15, 7))\n",
    "#plt.title('DFT Senoidales')\n",
    "#plt.plot(mod_X[0,:])\n",
    "#plt.plot(mod_X_LOG[:,st:fin].transpose())\n",
    "#plt.ylabel(\"DFT Amplitude |X(freq)|\")\n",
    "#plt.legend()\n",
    "#plt.show()\n",
    "\n",
    "lim = int (N/4)-1 #Columna de Fs/4, el -1 es porque va de 0 a 999\n",
    "\n",
    "#Me quedo con la columna correspondiente a pi/2 que sería el equivalente de fs/4 = 1000/4 = 250\n",
    "a_estimador = mod_X[:,lim] # Estimador para ventana rectangular\n",
    "\n",
    "Omega_estimador = np.argmax(mod_X,axis=1)#Recordar recortar a Nyquist\n",
    "\n",
    "Esperanza_a = sum(a_estimador/200)\n",
    "\n",
    "S_a_FL_3dB = Esperanza_a - Ac\n",
    "V_a_FL_3dB = sum((a_estimador-Esperanza_a)**2)/200"
   ]
  },
  {
   "cell_type": "markdown",
   "id": "16d3af28-a16b-40be-8371-63a798539071",
   "metadata": {},
   "source": [
    "**Ventana Blackmanharris**"
   ]
  },
  {
   "cell_type": "code",
   "execution_count": 51,
   "id": "3e513737-38a2-4fc2-afaf-476e0a035998",
   "metadata": {},
   "outputs": [],
   "source": [
    "wi = sig.windows.get_window('blackmanharris', len(tt))\n",
    "\n",
    "X_FL = ss * wi\n",
    "\n",
    "TFF_X=np.fft.fft(X_FL, axis = -1)/len(tt)#Espectro de la señal cuantizada\n",
    "mod_X=np.abs(TFF_X)\n",
    "mod_X_LOG=10*np.log10(2*np.abs(TFF_X)**2)\n",
    "\n",
    "#st = int (N/4) - 10\n",
    "#fin = int (N/4) + 10\n",
    "\n",
    "#Se comentó el ploteo para verificar \n",
    "#plt.figure(\"DFT Senoidales\",figsize=(15, 7))\n",
    "#plt.title('DFT Senoidales')\n",
    "#plt.plot(mod_X[0,:])\n",
    "#plt.plot(mod_X_LOG[:,st:fin].transpose())\n",
    "#plt.ylabel(\"DFT Amplitude |X(freq)|\")\n",
    "#plt.legend()\n",
    "#plt.show()\n",
    "\n",
    "lim = int (N/4)-1 #Columna de Fs/4, el -1 es porque va de 0 a 999\n",
    "\n",
    "#Me quedo con la columna correspondiente a pi/2 que sería el equivalente de fs/4 = 1000/4 = 250\n",
    "a_estimador = mod_X[:,lim] # Estimador para ventana rectangular\n",
    "\n",
    "Omega_estimador = np.argmax(mod_X,axis=1)#Recordar recortar a Nyquist\n",
    "\n",
    "Esperanza_a = sum(a_estimador/200)\n",
    "\n",
    "S_a_BL_3dB = Esperanza_a - Ac\n",
    "V_a_BL_3dB = sum((a_estimador-Esperanza_a)**2)/200"
   ]
  },
  {
   "cell_type": "markdown",
   "id": "b237e0d2-47bd-45da-becd-66a943b1063a",
   "metadata": {},
   "source": [
    "**Ventana Hamming**"
   ]
  },
  {
   "cell_type": "code",
   "execution_count": 52,
   "id": "94243d26-b905-4588-a581-7c2e10be5b46",
   "metadata": {},
   "outputs": [],
   "source": [
    "wi = sig.windows.get_window('hamming', len(tt))\n",
    "\n",
    "X_FL = ss * wi\n",
    "\n",
    "TFF_X=np.fft.fft(X_FL, axis = -1)/len(tt)#Espectro de la señal cuantizada\n",
    "mod_X=np.abs(TFF_X)\n",
    "mod_X_LOG=10*np.log10(2*np.abs(TFF_X)**2)\n",
    "\n",
    "#st = int (N/4) - 10\n",
    "#fin = int (N/4) + 10\n",
    "\n",
    "#Se comentó el ploteo para verificar \n",
    "#plt.figure(\"DFT Senoidales\",figsize=(15, 7))\n",
    "#plt.title('DFT Senoidales')\n",
    "#plt.plot(mod_X[0,:])\n",
    "#plt.plot(mod_X_LOG[:,st:fin].transpose())\n",
    "#plt.ylabel(\"DFT Amplitude |X(freq)|\")\n",
    "#plt.legend()\n",
    "#plt.show()\n",
    "\n",
    "lim = int (N/4)-1 #Columna de Fs/4, el -1 es porque va de 0 a 999\n",
    "\n",
    "#Me quedo con la columna correspondiente a pi/2 que sería el equivalente de fs/4 = 1000/4 = 250\n",
    "a_estimador = mod_X[:,lim] # Estimador para ventana rectangular\n",
    "\n",
    "Omega_estimador = np.argmax(mod_X,axis=1)#Recordar recortar a Nyquist\n",
    "\n",
    "Esperanza_a = sum(a_estimador/200)\n",
    "\n",
    "S_a_HG_3dB = Esperanza_a - Ac\n",
    "V_a_HG_3dB = sum((a_estimador-Esperanza_a)**2)/200"
   ]
  },
  {
   "cell_type": "markdown",
   "id": "223a45ae-2bbe-476c-b518-e28349b81401",
   "metadata": {},
   "source": [
    "### Ahora se repetirá el proceso anterior pero cambiando la SNR a 10dB"
   ]
  },
  {
   "cell_type": "code",
   "execution_count": 53,
   "id": "2de9f35e-d2ef-4b75-9bc6-50e554db41df",
   "metadata": {},
   "outputs": [],
   "source": [
    "SNR = 10 # SNR en dB\n",
    "sigma = (10**(-SNR/10)) #Varianza\n",
    "desvio = sigma**0.5 #Desvío Estándar"
   ]
  },
  {
   "cell_type": "code",
   "execution_count": 54,
   "id": "283170ee-0f46-417f-aaf8-87e0a9f37681",
   "metadata": {},
   "outputs": [],
   "source": [
    "#Genero señal aleatoria para el ruido\n",
    "na=np.random.normal(0, desvio, (R,N))\n",
    "#Genero la variable Omega según la distribución de fr\n",
    "fr=np.random.uniform(-2,2,R).reshape((R,1))\n",
    "Omega_1 = Omega_0 + fr*df\n",
    "\n",
    "tt, s = my_sin_gen(vmax = Ac, dc = DC, fo = Fo*Omega_1, ph=tita, nn = N, fs =Fs )\n",
    "\n",
    "ss= s + na"
   ]
  },
  {
   "cell_type": "markdown",
   "id": "f65beee2-d0d8-4555-a0ba-973649ff7257",
   "metadata": {},
   "source": [
    "**Ventana Rectangular**"
   ]
  },
  {
   "cell_type": "code",
   "execution_count": 55,
   "id": "6c635246-3f48-4d09-bf8b-cebd70ab6744",
   "metadata": {},
   "outputs": [],
   "source": [
    "wi = sig.windows.get_window('boxcar', len(tt))\n",
    "\n",
    "X_R = ss * wi\n",
    "\n",
    "TFF_X=np.fft.fft(X_R, axis = -1)/len(tt)#Espectro de la señal cuantizada\n",
    "mod_X=np.abs(TFF_X)\n",
    "mod_X_LOG=10*np.log10(2*np.abs(TFF_X)**2)\n",
    "\n",
    "#st = int (N/4) - 10\n",
    "#fin = int (N/4) + 10\n",
    "\n",
    "#Se comentó el ploteo para verificar \n",
    "#plt.figure(\"DFT Senoidales\",figsize=(15, 7))\n",
    "#plt.title('DFT Senoidales')\n",
    "#plt.plot(mod_X[0,:])\n",
    "#plt.plot(mod_X_LOG[:,st:fin].transpose())\n",
    "#plt.ylabel(\"DFT Amplitude |X(freq)|\")\n",
    "#plt.legend()\n",
    "#plt.show()\n",
    "\n",
    "lim = int (N/4)-1 #Columna de Fs/4, el -1 es porque va de 0 a 999\n",
    "\n",
    "#Me quedo con la columna correspondiente a pi/2 que sería el equivalente de fs/4 = 1000/4 = 250\n",
    "a_estimador = mod_X[:,lim] # Estimador para ventana rectangular\n",
    "\n",
    "Omega_estimador = np.argmax(mod_X,axis=1)#Recordar recortar a Nyquist\n",
    "\n",
    "Esperanza_a = sum(a_estimador/200)\n",
    "\n",
    "S_a_10dB = Esperanza_a - Ac\n",
    "V_a_10dB = sum((a_estimador-Esperanza_a)**2)/200"
   ]
  },
  {
   "cell_type": "markdown",
   "id": "12f9e44d-760c-47b1-b6ce-9103b4b768e1",
   "metadata": {},
   "source": [
    "**Ventana Flattop**"
   ]
  },
  {
   "cell_type": "code",
   "execution_count": 56,
   "id": "86883ebc-4c29-43eb-9fc4-4274b3f1b527",
   "metadata": {},
   "outputs": [],
   "source": [
    "wi = sig.windows.get_window('flattop', len(tt))\n",
    "\n",
    "X_FL = ss * wi\n",
    "\n",
    "TFF_X=np.fft.fft(X_FL, axis = -1)/len(tt)#Espectro de la señal cuantizada\n",
    "mod_X=np.abs(TFF_X)\n",
    "mod_X_LOG=10*np.log10(2*np.abs(TFF_X)**2)\n",
    "\n",
    "#st = int (N/4) - 10\n",
    "#fin = int (N/4) + 10\n",
    "\n",
    "#Se comentó el ploteo para verificar \n",
    "#plt.figure(\"DFT Senoidales\",figsize=(15, 7))\n",
    "#plt.title('DFT Senoidales')\n",
    "#plt.plot(mod_X[0,:])\n",
    "#plt.plot(mod_X_LOG[:,st:fin].transpose())\n",
    "#plt.ylabel(\"DFT Amplitude |X(freq)|\")\n",
    "#plt.legend()\n",
    "#plt.show()\n",
    "\n",
    "lim = int (N/4)-1 #Columna de Fs/4, el -1 es porque va de 0 a 999\n",
    "\n",
    "#Me quedo con la columna correspondiente a pi/2 que sería el equivalente de fs/4 = 1000/4 = 250\n",
    "a_estimador = mod_X[:,lim] # Estimador para ventana rectangular\n",
    "\n",
    "Omega_estimador = np.argmax(mod_X,axis=1)#Recordar recortar a Nyquist\n",
    "\n",
    "Esperanza_a = sum(a_estimador/200)\n",
    "\n",
    "S_a_FL_10dB = Esperanza_a - Ac\n",
    "V_a_FL_10dB = sum((a_estimador-Esperanza_a)**2)/200"
   ]
  },
  {
   "cell_type": "markdown",
   "id": "f122f0f7-8592-42c4-9365-c87fab161632",
   "metadata": {},
   "source": [
    "**Ventana Blackmanharris**"
   ]
  },
  {
   "cell_type": "code",
   "execution_count": 57,
   "id": "43454fc1-1fb9-41ed-bf9b-7d25dff64460",
   "metadata": {},
   "outputs": [],
   "source": [
    "wi = sig.windows.get_window('blackmanharris', len(tt))\n",
    "\n",
    "X_FL = ss * wi\n",
    "\n",
    "TFF_X=np.fft.fft(X_FL, axis = -1)/len(tt)#Espectro de la señal cuantizada\n",
    "mod_X=np.abs(TFF_X)\n",
    "mod_X_LOG=10*np.log10(2*np.abs(TFF_X)**2)\n",
    "\n",
    "#st = int (N/4) - 10\n",
    "#fin = int (N/4) + 10\n",
    "\n",
    "#Se comentó el ploteo para verificar \n",
    "#plt.figure(\"DFT Senoidales\",figsize=(15, 7))\n",
    "#plt.title('DFT Senoidales')\n",
    "#plt.plot(mod_X[0,:])\n",
    "#plt.plot(mod_X_LOG[:,st:fin].transpose())\n",
    "#plt.ylabel(\"DFT Amplitude |X(freq)|\")\n",
    "#plt.legend()\n",
    "#plt.show()\n",
    "\n",
    "lim = int (N/4)-1 #Columna de Fs/4, el -1 es porque va de 0 a 999\n",
    "\n",
    "#Me quedo con la columna correspondiente a pi/2 que sería el equivalente de fs/4 = 1000/4 = 250\n",
    "a_estimador = mod_X[:,lim] # Estimador para ventana rectangular\n",
    "\n",
    "Omega_estimador = np.argmax(mod_X,axis=1)#Recordar recortar a Nyquist\n",
    "\n",
    "Esperanza_a = sum(a_estimador/200)\n",
    "\n",
    "S_a_BL_10dB = Esperanza_a - Ac\n",
    "V_a_BL_10dB = sum((a_estimador-Esperanza_a)**2)/200"
   ]
  },
  {
   "cell_type": "markdown",
   "id": "cb4cdc3c-ecf9-49cd-8a75-cab295b46367",
   "metadata": {},
   "source": [
    "**Ventana Hamming**"
   ]
  },
  {
   "cell_type": "code",
   "execution_count": 58,
   "id": "0840db7e-f3a5-412b-a75b-dd6196802a04",
   "metadata": {},
   "outputs": [],
   "source": [
    "wi = sig.windows.get_window('hamming', len(tt))\n",
    "\n",
    "X_FL = ss * wi\n",
    "\n",
    "TFF_X=np.fft.fft(X_FL, axis = -1)/len(tt)#Espectro de la señal cuantizada\n",
    "mod_X=np.abs(TFF_X)\n",
    "mod_X_LOG=10*np.log10(2*np.abs(TFF_X)**2)\n",
    "\n",
    "#st = int (N/4) - 10\n",
    "#fin = int (N/4) + 10\n",
    "\n",
    "#Se comentó el ploteo para verificar \n",
    "#plt.figure(\"DFT Senoidales\",figsize=(15, 7))\n",
    "#plt.title('DFT Senoidales')\n",
    "#plt.plot(mod_X[0,:])\n",
    "#plt.plot(mod_X_LOG[:,st:fin].transpose())\n",
    "#plt.ylabel(\"DFT Amplitude |X(freq)|\")\n",
    "#plt.legend()\n",
    "#plt.show()\n",
    "\n",
    "lim = int (N/4)-1 #Columna de Fs/4, el -1 es porque va de 0 a 999\n",
    "\n",
    "#Me quedo con la columna correspondiente a pi/2 que sería el equivalente de fs/4 = 1000/4 = 250\n",
    "a_estimador = mod_X[:,lim] # Estimador para ventana rectangular\n",
    "\n",
    "Omega_estimador = np.argmax(mod_X,axis=1)#Recordar recortar a Nyquist\n",
    "\n",
    "Esperanza_a = sum(a_estimador/200)\n",
    "\n",
    "S_a_HG_10dB = Esperanza_a - Ac\n",
    "V_a_HG_10dB = sum((a_estimador-Esperanza_a)**2)/200"
   ]
  },
  {
   "cell_type": "code",
   "execution_count": 59,
   "id": "a6f64459-e5ae-45dd-a4cc-082578a66d2d",
   "metadata": {},
   "outputs": [
    {
     "name": "stdout",
     "output_type": "stream",
     "text": [
      "Ventana                $s_a$       $v_a$\n",
      "------------------  --------  ----------\n",
      "Rectangular $3dB$   -1.16241  0.0547424\n",
      "Flat-top $3dB$      -1.29099  0.00149856\n",
      "Blackman $3dB$      -1.26881  0.00813184\n",
      "Hamming $3dB$       -1.24516  0.020762\n",
      "Rectangular $10dB$  -1.15653  0.0548395\n",
      "Flat-top $10dB$     -1.28633  0.00123765\n",
      "Blackman $10dB$     -1.26169  0.00724313\n",
      "Hamming $10dB$      -1.24067  0.0199877\n"
     ]
    }
   ],
   "source": [
    "from tabulate import tabulate\n",
    "print(tabulate([['Rectangular $3dB$', S_a_3dB,V_a_3dB], ['Flat-top $3dB$', S_a_FL_3dB, V_a_FL_3dB],['Blackman $3dB$', S_a_BL_3dB,V_a_BL_3dB],['Hamming $3dB$', S_a_HG_3dB,V_a_HG_3dB],['Rectangular $10dB$', S_a_10dB,V_a_10dB], ['Flat-top $10dB$', S_a_FL_10dB, V_a_FL_10dB],['Blackman $10dB$', S_a_BL_10dB,V_a_BL_10dB],['Hamming $10dB$', S_a_HG_10dB,V_a_HG_10dB]], headers=['Ventana', \"$s_a$\",'$v_a$']))\n"
   ]
  },
  {
   "cell_type": "markdown",
   "id": "b97d588b-7003-47de-adc0-e81b0940aea9",
   "metadata": {},
   "source": [
    "# Genero la siguiente Tabla\n",
    "\n",
    "| Ventana | $s_a$ | $v_a$  |\n",
    "|--------------|--------------|--------------|\n",
    "| Rectangular $3dB$ | {S_a_3dB}  | {V_a_3dB}  |\n",
    "| Flat-top $3dB$    | {{S_a_FL_3dB}}  | {{V_a_FL_3dB}} |\n",
    "| Blackman $3dB$    | {{S_a_BL_3dB}}  | {{V_a_BL_3dB}}  |\n",
    "| Hamming $3dB$     | {{S_a_HG_3dB}}  | {{V_a_HG_3dB}}  |\n",
    "| Rectangular $10dB$| {{S_a_10dB}}  |  {{V_a_10dB}} |\n",
    "| Flat-top $10dB$\t| {{S_a_FL_10dB}}  | {{V_a_FL_10dB}}  |\n",
    "| Blackman $10dB$   | {{S_a_BL_10dB}}  | {{V_a_BL_10dB}}  |\n",
    "| Hamming $10dB$    | {{S_a_HG_10dB}}  | {{V_a_HG_10dB}}  |"
   ]
  },
  {
   "cell_type": "code",
   "execution_count": null,
   "id": "282c0133-a3ae-4727-be67-fbee13550cbb",
   "metadata": {},
   "outputs": [],
   "source": []
  }
 ],
 "metadata": {
  "kernelspec": {
   "display_name": "Python 3 (ipykernel)",
   "language": "python",
   "name": "python3"
  },
  "language_info": {
   "codemirror_mode": {
    "name": "ipython",
    "version": 3
   },
   "file_extension": ".py",
   "mimetype": "text/x-python",
   "name": "python",
   "nbconvert_exporter": "python",
   "pygments_lexer": "ipython3",
   "version": "3.13.2"
  }
 },
 "nbformat": 4,
 "nbformat_minor": 5
}
